{
 "cells": [
  {
   "cell_type": "code",
   "execution_count": 78,
   "id": "requested-dynamics",
   "metadata": {},
   "outputs": [],
   "source": [
    "import numpy as np\n",
    "from matplotlib import pyplot as plt"
   ]
  },
  {
   "cell_type": "markdown",
   "id": "everyday-bible",
   "metadata": {},
   "source": [
    "# Potential temperature\n",
    "\n",
    "Write a function to calculate the potential temperature, given a temperature and pressure:\n",
    "\n"
   ]
  },
  {
   "cell_type": "code",
   "execution_count": 53,
   "id": "sufficient-commissioner",
   "metadata": {},
   "outputs": [],
   "source": [
    "def calc_theta(T, P):\n",
    "    \n",
    "    # Put your equation here: \n",
    "    \n",
    "    return theta"
   ]
  },
  {
   "cell_type": "code",
   "execution_count": 54,
   "id": "hazardous-stack",
   "metadata": {},
   "outputs": [
    {
     "data": {
      "text/plain": [
       "305.20973322455467"
      ]
     },
     "execution_count": 54,
     "metadata": {},
     "output_type": "execute_result"
    }
   ],
   "source": [
    "# Test your function here: \n"
   ]
  },
  {
   "cell_type": "markdown",
   "id": "honest-method",
   "metadata": {},
   "source": [
    "Add an if statement to check whether temperature is in Kelvin or Celcius"
   ]
  },
  {
   "cell_type": "code",
   "execution_count": 55,
   "id": "decimal-sapphire",
   "metadata": {},
   "outputs": [],
   "source": [
    "def calc_theta(T, P):\n",
    "    \n",
    "    # You could do something like this:\n",
    "    if T > 200:\n",
    "        # Your code here\n",
    "    else:\n",
    "        # Your code here\n",
    "            \n",
    "    \n",
    "    return theta"
   ]
  },
  {
   "cell_type": "code",
   "execution_count": 84,
   "id": "shared-telescope",
   "metadata": {},
   "outputs": [],
   "source": [
    "# Test your function here, for a temperature in Celcius and a temperature in Kelvin"
   ]
  },
  {
   "cell_type": "markdown",
   "id": "republican-scott",
   "metadata": {},
   "source": [
    "# Stability Checker\n",
    "\n",
    "Write a function to check and pring out the stability (stable, neutral or unstable) of a layer of air, given two temperatures and two pressures"
   ]
  },
  {
   "cell_type": "code",
   "execution_count": 60,
   "id": "secure-necessity",
   "metadata": {},
   "outputs": [],
   "source": [
    "def stability_checker(p1, p2, T1, T2):\n",
    "    \n",
    "    # Your code here\n",
    "    \n"
   ]
  },
  {
   "cell_type": "code",
   "execution_count": 85,
   "id": "czech-therapist",
   "metadata": {},
   "outputs": [],
   "source": [
    "# Test your code here"
   ]
  },
  {
   "cell_type": "markdown",
   "id": "ignored-emerald",
   "metadata": {},
   "source": [
    "# Mixing ratio and vapour pressure\n",
    "\n",
    "Write a function to calculate mixing ratio from vapour pressure and pressure"
   ]
  },
  {
   "cell_type": "code",
   "execution_count": 66,
   "id": "electoral-lucas",
   "metadata": {},
   "outputs": [],
   "source": [
    "def w_from_eandP(e, P):\n",
    "    \n",
    "    # Your code here    \n",
    "\n",
    "    return(w)"
   ]
  },
  {
   "cell_type": "code",
   "execution_count": 86,
   "id": "direct-diabetes",
   "metadata": {},
   "outputs": [],
   "source": [
    "# Test your code here"
   ]
  },
  {
   "cell_type": "code",
   "execution_count": 71,
   "id": "mysterious-promotion",
   "metadata": {},
   "outputs": [],
   "source": [
    "# Can you give your function a list of values? \n",
    "\n",
    "elist = np.array([500,1000,1500,2000,2500])\n",
    "Plist = np.array([100100,100100,100100,100100,100100])"
   ]
  }
 ],
 "metadata": {
  "kernelspec": {
   "display_name": "Python 3",
   "language": "python",
   "name": "python3"
  },
  "language_info": {
   "codemirror_mode": {
    "name": "ipython",
    "version": 3
   },
   "file_extension": ".py",
   "mimetype": "text/x-python",
   "name": "python",
   "nbconvert_exporter": "python",
   "pygments_lexer": "ipython3",
   "version": "3.6.9"
  }
 },
 "nbformat": 4,
 "nbformat_minor": 5
}
