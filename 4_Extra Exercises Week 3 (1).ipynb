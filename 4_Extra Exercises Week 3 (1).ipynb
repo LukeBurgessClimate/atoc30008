{
 "cells": [
  {
   "cell_type": "code",
   "execution_count": 4,
   "id": "dominant-savannah",
   "metadata": {},
   "outputs": [],
   "source": [
    "import numpy as np\n",
    "from matplotlib import pyplot as plt\n",
    "import random\n",
    "import pandas\n"
   ]
  },
  {
   "cell_type": "markdown",
   "id": "innocent-comfort",
   "metadata": {},
   "source": [
    "# Wind profiles"
   ]
  },
  {
   "cell_type": "markdown",
   "id": "unlike-france",
   "metadata": {},
   "source": [
    "1. Pencil and paper: Show that under neutral conditions, $\\frac{\\kappa z}{u_*} \\frac{\\partial u}{\\partial z}$ = 1\n",
    "\n",
    "2. Pencil and paper: Show that under neutral condition, this is equivalent to:\n",
    "\n",
    "\\begin{equation}\n",
    "u = \\frac{u_*}{\\kappa} ln (\\frac{z}{z_0}) \n",
    "\\end{equation}\n",
    "\n",
    "where $\\kappa$ is a constant (0.4) and $z_0$ is the constant, which we call the 'surface roughness'.\n",
    "\n",
    "3. If the wind speed at 40 m and 80 m was measured as 5 m/s and 7 m/s respectively, estimate the friction velocity and surface roughness"
   ]
  },
  {
   "cell_type": "code",
   "execution_count": 5,
   "id": "expensive-multiple",
   "metadata": {},
   "outputs": [],
   "source": [
    "# Do your working here"
   ]
  },
  {
   "cell_type": "markdown",
   "id": "unknown-newspaper",
   "metadata": {},
   "source": [
    "4. Using your calculation of $u_*$, estimate $K_m$, the eddy diffusivity. Is this consistent with the logarithmic wind profile? "
   ]
  },
  {
   "cell_type": "code",
   "execution_count": 6,
   "id": "simplified-investigation",
   "metadata": {},
   "outputs": [],
   "source": [
    "# Do your working here"
   ]
  },
  {
   "cell_type": "markdown",
   "id": "physical-rotation",
   "metadata": {},
   "source": [
    "5. Write a function to calculate $u_*$ and $z_0$, given inputs of wind pseed at two heights under neutral conditions"
   ]
  },
  {
   "cell_type": "code",
   "execution_count": 7,
   "id": "simple-reggae",
   "metadata": {},
   "outputs": [],
   "source": [
    "# Write your function here"
   ]
  },
  {
   "cell_type": "code",
   "execution_count": 8,
   "id": "smoking-estimate",
   "metadata": {},
   "outputs": [],
   "source": [
    "# Test your function here. Can you break it? "
   ]
  },
  {
   "cell_type": "markdown",
   "id": "forbidden-syria",
   "metadata": {},
   "source": [
    "6. Now try some realistic values in your function. First, set u* = 0.4, and experiment with a few different surface roughness values (eg. 0.5 cm, 5 cm, 1 cm, 1 m). What happens to the wind profile? Why? Make some plots of wind speed against height, with log(height) on the vertical axis and wind speed on the horizontal axis. Next, set the surface roughness to 5 cm, and try some different values of u* (eg 0.1, 0.4, 0.7, 1.0). What happens to the wind profile? Why? Remember that u* is the square of the vertical momentum flux. Does this idea help you interpret what is going on? "
   ]
  },
  {
   "cell_type": "markdown",
   "id": "approximate-values",
   "metadata": {},
   "source": [
    "# Fluxes"
   ]
  },
  {
   "cell_type": "markdown",
   "id": "adjustable-hormone",
   "metadata": {},
   "source": [
    "In this exercise, we're going to work through a toy example of calculating fluxes. You've been given 10 minutes of 10 Hz data - that means 10 X 60 X 60 values. The measurements are of $w$ and $\\theta_v$. You're going to calculate the sensible heat flux resulting from the turbulent eddies. "
   ]
  },
  {
   "cell_type": "code",
   "execution_count": 9,
   "id": "essential-harassment",
   "metadata": {},
   "outputs": [
    {
     "name": "stdout",
     "output_type": "stream",
     "text": [
      "   Unnamed: 0        w      thetav\n",
      "0           0 -0.23175  294.261430\n",
      "1           1 -0.63725  294.334314\n",
      "2           2 -0.53350  294.422965\n",
      "3           3 -0.58875  294.241996\n",
      "4           4 -0.07800  294.079591\n"
     ]
    }
   ],
   "source": [
    "data = pandas.read_csv('tutorial_sample.csv')\n",
    "print(data.head())\n",
    "\n",
    "w = np.array(data.w)\n",
    "thetav = np.array(data.thetav)"
   ]
  },
  {
   "cell_type": "markdown",
   "id": "protecting-placement",
   "metadata": {},
   "source": [
    "1. Plot w and $\\theta_v$ in separate plots"
   ]
  },
  {
   "cell_type": "code",
   "execution_count": null,
   "id": "integral-texture",
   "metadata": {},
   "outputs": [],
   "source": []
  },
  {
   "cell_type": "markdown",
   "id": "optimum-departure",
   "metadata": {},
   "source": [
    "2. Calculate w' and $\\theta_v$'"
   ]
  },
  {
   "cell_type": "code",
   "execution_count": null,
   "id": "breathing-sentence",
   "metadata": {},
   "outputs": [],
   "source": []
  },
  {
   "cell_type": "markdown",
   "id": "understood-thompson",
   "metadata": {},
   "source": [
    "3. Plot w' and $\\theta_v$', and make sure they fluctuate about zero"
   ]
  },
  {
   "cell_type": "code",
   "execution_count": null,
   "id": "antique-wisdom",
   "metadata": {},
   "outputs": [],
   "source": []
  },
  {
   "cell_type": "markdown",
   "id": "personalized-warrior",
   "metadata": {},
   "source": [
    "4. Calculate $\\overline{w'\\theta_v'}$"
   ]
  },
  {
   "cell_type": "code",
   "execution_count": null,
   "id": "color-audio",
   "metadata": {},
   "outputs": [],
   "source": []
  },
  {
   "cell_type": "markdown",
   "id": "accomplished-mechanics",
   "metadata": {},
   "source": [
    "5. What is the sign of the heat flux? Is the potential temperature increasing or decreasing with height near the surface?"
   ]
  },
  {
   "cell_type": "code",
   "execution_count": 341,
   "id": "noble-lease",
   "metadata": {},
   "outputs": [],
   "source": []
  },
  {
   "cell_type": "code",
   "execution_count": 343,
   "id": "supposed-friendly",
   "metadata": {},
   "outputs": [],
   "source": []
  },
  {
   "cell_type": "code",
   "execution_count": null,
   "id": "reasonable-bangkok",
   "metadata": {},
   "outputs": [],
   "source": []
  },
  {
   "cell_type": "code",
   "execution_count": null,
   "id": "completed-middle",
   "metadata": {},
   "outputs": [],
   "source": []
  },
  {
   "cell_type": "code",
   "execution_count": null,
   "id": "mediterranean-correction",
   "metadata": {},
   "outputs": [],
   "source": []
  }
 ],
 "metadata": {
  "kernelspec": {
   "display_name": "Python 3",
   "language": "python",
   "name": "python3"
  },
  "language_info": {
   "codemirror_mode": {
    "name": "ipython",
    "version": 3
   },
   "file_extension": ".py",
   "mimetype": "text/x-python",
   "name": "python",
   "nbconvert_exporter": "python",
   "pygments_lexer": "ipython3",
   "version": "3.6.9"
  }
 },
 "nbformat": 4,
 "nbformat_minor": 5
}
