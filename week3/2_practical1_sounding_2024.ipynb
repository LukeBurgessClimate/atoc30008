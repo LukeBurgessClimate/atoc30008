{
 "cells": [
  {
   "cell_type": "markdown",
   "metadata": {},
   "source": [
    "# Python implementation of sounding analysis\n",
    "\n",
    "In this exercise, you will repeat the sounding analysis from Week 2 using a Jupyter notebook\n",
    "\n",
    "The first step is to load some packages. Don't worry too much about these at the moment. If you're using the Jupyter hub, everything is installed for you, and you can ignore the next instruction.\n",
    "\n",
    "If you decide to install Jupyter notebooks locally on your computer, you can install the packages from within a cell as follows:\n",
    "\n",
    "import sys\n",
    "!{sys.executable} -m pip install [package name]\n",
    "\n",
    "Note that pandas, numpy, datetime and matplotlib will probably be automatically installed with jupyter notebooks, but you will probably need to install metpy.\n"
   ]
  },
  {
   "cell_type": "markdown",
   "metadata": {},
   "source": [
    "<b> Just run these next two cells with the triangle 'play' button in the menu </b>"
   ]
  },
  {
   "cell_type": "code",
   "execution_count": null,
   "metadata": {},
   "outputs": [],
   "source": [
    "import pandas as pd\n",
    "import numpy as np\n",
    "import datetime as datetime\n",
    "from matplotlib import pyplot as plt"
   ]
  },
  {
   "cell_type": "code",
   "execution_count": null,
   "metadata": {},
   "outputs": [],
   "source": [
    "import metpy.calc as mpcalc\n",
    "from metpy.cbook import get_test_data\n",
    "from metpy.plots import add_metpy_logo, SkewT\n",
    "from metpy.units import units\n",
    "import metpy.constants as mpconst"
   ]
  },
  {
   "cell_type": "code",
   "execution_count": null,
   "metadata": {},
   "outputs": [],
   "source": [
    "# Change default to be better for skew-T\n",
    "plt.rcParams['figure.figsize'] = (9, 7)"
   ]
  },
  {
   "cell_type": "markdown",
   "metadata": {},
   "source": [
    "<b> Now we're going to load the sounding data. Remember to copy the file 'sounding_data.csv' into the same directory as this notebook (in your local directory, NOT in the workbooks directory). </b>"
   ]
  },
  {
   "cell_type": "code",
   "execution_count": null,
   "metadata": {},
   "outputs": [],
   "source": [
    "SoundingData = pd.read_csv('Sounding_20230202_12Z.csv', sep=',', skiprows=4,\n",
    "names = ['pressure', 'height', 'temperature', 'dewpoint', 'rh', 'w'], engine='python')\n",
    "SoundingData.head()"
   ]
  },
  {
   "cell_type": "code",
   "execution_count": null,
   "metadata": {},
   "outputs": [],
   "source": [
    "# Assign units to your data\n",
    "\n",
    "hgt = SoundingData['height'].values * units.m\n",
    "p = SoundingData['pressure'].values * units.hPa\n",
    "T = SoundingData['temperature'].values * units.degC\n",
    "Td = SoundingData['dewpoint'].values * units.degC"
   ]
  },
  {
   "cell_type": "code",
   "execution_count": null,
   "metadata": {},
   "outputs": [],
   "source": [
    "# Let's have a look to see if it's loaded properly: \n",
    "\n",
    "print(SoundingData)"
   ]
  },
  {
   "cell_type": "code",
   "execution_count": null,
   "metadata": {},
   "outputs": [],
   "source": [
    "fig = plt.figure(figsize=(9, 12))\n",
    "\n",
    "# Set up a skewT axis\n",
    "skew = SkewT(fig=fig, aspect = 100)\n",
    "\n",
    "# Plot the data using normal plotting functions, in this case using\n",
    "# log scaling in Y, as dictated by the typical meteorological plot\n",
    "skew.plot(SoundingData.pressure, SoundingData.temperature, 'r')\n",
    "skew.plot(SoundingData.pressure, SoundingData.dewpoint, 'k')\n",
    "# Add the relevant special lines\n",
    "pressure_mixing_lines = np.arange(1000,300,100)* units.hPa\n",
    "w = np.array([0.000125,0.00025,0.0005,0.001,0.002,0.004,0.008,0.016])[:, None] * units('g/g')\n",
    "\n",
    "# Change the colours here if you prefer: (see https://matplotlib.org/stable/gallery/color/named_colors.html)\n",
    "skew.plot_dry_adiabats(color='g', linewidth=1, t0=np.arange(-30+273.15, 60+273.15, 5) * units.K)\n",
    "skew.plot_moist_adiabats(color='r', linewidth=1, t0=np.arange(-30+273.15, 60+273.15, 5) * units.K)\n",
    "ml = skew.plot_mixing_lines(w,color='cadetblue', linewidth=1, pressure=p) #, pressure = pressure_mixing_lines)\n",
    "skew.ax.set_ylim(1000, 300)\n",
    "# Add xticks at every 1 degree.\n",
    "xtick_locations = np.arange(-60, 40, 1)\n",
    "skew.ax.set_xticks(xtick_locations)\n",
    "# Only want to label every with tick\n",
    "xtick_labels = [''] * len(xtick_locations)\n",
    "xtick_labels[::5] = xtick_locations[::5].astype(str)\n",
    "skew.ax.set_xticklabels(xtick_labels)\n",
    "skew.ax.set_xlim(-40, 40)\n",
    "\n",
    "# Label the mixing ratio isopleths\n",
    "for val in w.flatten()[::1]:\n",
    "    top_p = 600 * units.hPa\n",
    "    dewpt = mpcalc.dewpoint(mpcalc.vapor_pressure(top_p, val))\n",
    "    skew.ax.text(dewpt, top_p, str(val.to('g/kg').m),\n",
    "                 horizontalalignment='center')\n",
    "\n",
    "# Add the MetPy logo (just for fun)\n",
    "add_metpy_logo(fig, 40, 35)\n",
    "\n",
    "# Let's find the LCL pressure and temperature, and add them to the plot as a black dot:\n",
    "lcl_pressure, lcl_temperature = mpcalc.lcl(p[0], T[0], Td[0])\n",
    "lcl_mixing_ratio = mpcalc.saturation_mixing_ratio(lcl_pressure, lcl_temperature) * 1000 # g/kg\n",
    "\n",
    "# Print out the properties of the surface parcel at the LCL\n",
    "print(f'The LCL pressure is {lcl_pressure:.1f}')\n",
    "print(f'The LCL temperature is {lcl_temperature:.1f}')\n",
    "print(f'The LCL mixing ratio is {lcl_mixing_ratio:.1f}')\n",
    "\n",
    "# Mark the LCL on the skewT plot\n",
    "skew.plot(lcl_pressure, lcl_temperature, 'ko', markerfacecolor='black')\n",
    "\n",
    "# Calculate full parcel profile and add to plot as black line\n",
    "prof_pressures = np.arange(1000,200,-50) * units.hPa\n",
    "\n",
    "prof = mpcalc.parcel_profile(prof_pressures, T[0], Td[0]).to('degC')\n",
    "\n",
    "skew.plot(prof_pressures, prof, 'k', linewidth=2)\n",
    "#skew.plot(prof_pressures, prof1, 'k', linewidth=3)\n",
    "\n",
    "skew.ax.axvline(0, color='c', linestyle='--', linewidth=2)"
   ]
  },
  {
   "cell_type": "code",
   "execution_count": null,
   "metadata": {},
   "outputs": [],
   "source": [
    "# We're going to find the closest height level to the 2000m, which is the top of the mountain.\n",
    "mountain_top = 800 * units.hPa\n",
    "\n",
    "closest_pressure = min(prof_pressures, key=lambda x:abs(x-mountain_top))\n",
    "mountain_top_arg = np.argwhere(prof_pressures == closest_pressure)\n",
    "\n",
    "print(mountain_top_arg, prof_pressures[mountain_top_arg])"
   ]
  },
  {
   "cell_type": "markdown",
   "metadata": {},
   "source": [
    "We've just found out the index of the 800 hPa pressure level in the profile. Now we can bring the parcel back to the surface, just like we did manually last week. "
   ]
  },
  {
   "cell_type": "code",
   "execution_count": null,
   "metadata": {},
   "outputs": [],
   "source": [
    "# The saturation vapour pressure. This is the same as the vapour pressure \n",
    "# at this point, because the parcel is still saturated.\n",
    "\n",
    "es_top = mpcalc.saturation_vapor_pressure(prof[mountain_top_arg]) # Pa\n",
    "print(f'The vapour pressure at the mountain top is {es_top:.1f}')\n"
   ]
  },
  {
   "cell_type": "code",
   "execution_count": null,
   "metadata": {},
   "outputs": [],
   "source": [
    "# Convert to mixing ratio. This will be conserved when the parcel returns to the surface\n",
    "w = mpcalc.mixing_ratio(es_top, prof_pressures[mountain_top_arg]) * 1000 # g/kg\n",
    "print(f'The mixing ratio after descent is {w:.1f}')"
   ]
  },
  {
   "cell_type": "code",
   "execution_count": null,
   "metadata": {},
   "outputs": [],
   "source": [
    "# Now we need the saturation mixing ratio. To find this, we need to bring the parcel adiabatically \n",
    "# to the surface. This will conserve the potential temperature, so let's just find the potential\n",
    "# temperature!\n",
    "\n",
    "TK = prof[mountain_top_arg].to('degK')\n",
    "P0 = 1000*units.hPa\n",
    "\n",
    "potential_temperature_top = (TK * np.power((P0 / prof_pressures[mountain_top_arg]),0.286)).to('degC') \n",
    "\n",
    "print(f'The potential temperature at the mountain top is {potential_temperature_top:.1f}')"
   ]
  },
  {
   "cell_type": "code",
   "execution_count": null,
   "metadata": {},
   "outputs": [],
   "source": [
    "# The potential temperature at 1000 hPa is the same as the potential temperature at the \n",
    "# mountain top. And at 1000hPa, the potential temperature is the same as the temperature.\n",
    "\n",
    "temperature_at_1000hPa = potential_temperature_top\n",
    "\n",
    "es = mpcalc.saturation_vapor_pressure(temperature_at_1000hPa) # Pa\n",
    "print(f'The saturation vapour pressure after descent is {es:.1f}')"
   ]
  },
  {
   "cell_type": "code",
   "execution_count": null,
   "metadata": {},
   "outputs": [],
   "source": [
    "# Saturation mixing ratio at 1000 hPa\n",
    "\n",
    "ws = mpcalc.mixing_ratio(es, 1000 * units.hPa) * 1000 # g/kg\n",
    "print(f'The mixing ratio after descent is {ws:.1f}')"
   ]
  },
  {
   "cell_type": "code",
   "execution_count": null,
   "metadata": {},
   "outputs": [],
   "source": [
    "# Relative humidity: You do this bit!!!\n",
    "\n"
   ]
  },
  {
   "cell_type": "markdown",
   "metadata": {},
   "source": [
    "# CHALLENGE #\n",
    "\n",
    "Use the hydrostatic equation to check the height calculations in the sounding file. \n",
    "\n",
    "$ \\frac{\\partial P}{\\partial z} = -\\rho g $\n",
    "\n",
    "Rewrite this as:\n",
    "\n",
    "$ \\Delta z = \\frac{-1}{\\rho g} \\Delta P $\n",
    "\n",
    "You'll need to start by calculating $\\rho$\n",
    "\n",
    "Then calculate $\\Delta z$ for each pair of pressures, and sequentally add to the previous height (ie. use a for loop)\n",
    "\n",
    "Hints: \n",
    "1. Use the first height from the sounding as your h[0]\n",
    "2. For a more accurate result, calculate $\\rho$ in the middle of each layer (ie. the average of the upper and lower values\n",
    "\n",
    "\n",
    "Finally, make a plot of your height calculation against the one in the sounding file. Are they the same? "
   ]
  },
  {
   "cell_type": "code",
   "execution_count": null,
   "metadata": {},
   "outputs": [],
   "source": []
  },
  {
   "cell_type": "code",
   "execution_count": null,
   "metadata": {},
   "outputs": [],
   "source": []
  }
 ],
 "metadata": {
  "kernelspec": {
   "display_name": "Python 3",
   "language": "python",
   "name": "python3"
  },
  "language_info": {
   "codemirror_mode": {
    "name": "ipython",
    "version": 3
   },
   "file_extension": ".py",
   "mimetype": "text/x-python",
   "name": "python",
   "nbconvert_exporter": "python",
   "pygments_lexer": "ipython3",
   "version": "3.6.9"
  },
  "vscode": {
   "interpreter": {
    "hash": "511d75691c2de2c4c9d9824f6bfba446f8171b79be738e74043c2caf92fef06d"
   }
  }
 },
 "nbformat": 4,
 "nbformat_minor": 4
}
