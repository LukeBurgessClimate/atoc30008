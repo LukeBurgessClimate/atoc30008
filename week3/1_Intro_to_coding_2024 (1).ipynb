{
 "cells": [
  {
   "cell_type": "markdown",
   "metadata": {},
   "source": [
    "<h1 style=\"font-size:3rem;color:orange;\">Jupyter Notebook Tutorial</h1>"
   ]
  },
  {
   "cell_type": "markdown",
   "metadata": {},
   "source": [
    "# Python: Your First Steps"
   ]
  },
  {
   "cell_type": "markdown",
   "metadata": {},
   "source": [
    "#### Hi Everyone! \n",
    "\n",
    "##### Welcome to your first Python Jupyter notebooks tutorial! \n",
    "\n",
    "##### In this tutorial, you will learn how to do basic operations in python, make a graph. "
   ]
  },
  {
   "cell_type": "markdown",
   "metadata": {},
   "source": [
    "### Two types of cells\n",
    "In Jupyter Notebooks, there are two types of cells, code cells, and markdown or text cells. These first few cells are markdown cells that allow for rapid text formatting, including modifying text size, font, color, etc., and adding hyperlinks, and images, among others."
   ]
  },
  {
   "cell_type": "markdown",
   "metadata": {},
   "source": [
    "### Comments\n",
    "The first thing in coding to learn is how to add comments. Code gets complicated fast, and comments help you take notes to understand what each line of code does. \n",
    "\n",
    "In python, if you start a line with **#**, it is prescribed as a comment. As a result, the font color will be green/grey/blue, and the python compiler will ignore all text after the #. \n",
    "\n",
    "This allows you to make comments in your code explaining what each part does. It is also helpful in tracking errors to temporarily comment out a section of code that is not working. Let's look at the example below."
   ]
  },
  {
   "cell_type": "code",
   "execution_count": 1,
   "metadata": {},
   "outputs": [],
   "source": [
    "# This line is commented and ignored by Python! Therefore, it won't do anything during the execution of your code."
   ]
  },
  {
   "cell_type": "markdown",
   "metadata": {},
   "source": [
    "### Printing output\n",
    "You can print output from a variable with the print() function in Python. \n",
    "\n",
    "The print() function allows displaying the string \"Hello world\". \n",
    "To indicate Python that is a string, we enclose it with apostrophes, like 'hello world'. Python treats apostrophes and quotes the same, so you can write 'hello world' or \"hello world\", just be consistent. See the example below."
   ]
  },
  {
   "cell_type": "code",
   "execution_count": 2,
   "metadata": {},
   "outputs": [
    {
     "name": "stdout",
     "output_type": "stream",
     "text": [
      "Hello world\n"
     ]
    }
   ],
   "source": [
    "# The below code will print \"hello world\"\n",
    "print('Hello world')"
   ]
  },
  {
   "cell_type": "markdown",
   "metadata": {},
   "source": [
    "### Variables\n",
    "In Python, you define a variable to keep some piece of information, for example, a string, a number, or a list/matrix of strings or numbers. Below, we will create a variable, x, that contains the 'hello world' string. Then we will print x."
   ]
  },
  {
   "cell_type": "code",
   "execution_count": 2,
   "metadata": {},
   "outputs": [
    {
     "name": "stdout",
     "output_type": "stream",
     "text": [
      "Hello world\n"
     ]
    }
   ],
   "source": [
    "# Creating a string variable\n",
    "x = 'Hello world'\n",
    "print(x)"
   ]
  },
  {
   "cell_type": "code",
   "execution_count": 3,
   "metadata": {},
   "outputs": [
    {
     "name": "stdout",
     "output_type": "stream",
     "text": [
      "999\n"
     ]
    }
   ],
   "source": [
    "# Creating a number variable\n",
    "x = 999\n",
    "print(x)"
   ]
  },
  {
   "cell_type": "markdown",
   "metadata": {},
   "source": [
    "### Adding and Concatenating\n",
    "We can perform many operations on our variables. For example, Python will automatically interpret it meant by adding based on the variable type: (1) strings are concatenated, and (2) numbers are added. Let's verify this by creating variables of both and adding them."
   ]
  },
  {
   "cell_type": "code",
   "execution_count": 4,
   "metadata": {},
   "outputs": [
    {
     "name": "stdout",
     "output_type": "stream",
     "text": [
      "3\n"
     ]
    }
   ],
   "source": [
    "# Here let's try adding numbers\n",
    "a = 1\n",
    "b = 2\n",
    "c = a + b\n",
    "print(c)"
   ]
  },
  {
   "cell_type": "code",
   "execution_count": 6,
   "metadata": {},
   "outputs": [
    {
     "name": "stdout",
     "output_type": "stream",
     "text": [
      "The wind blows clockwise around a low pressure system in the Southern Hemisphere\n"
     ]
    }
   ],
   "source": [
    "# Now let's try adding strings (Concatenating)\n",
    "a = 'The '\n",
    "b = 'wind blows clockwise '\n",
    "c = 'around a low pressure system in the Southern Hemisphere'\n",
    "d = a + b + c\n",
    "print(d)"
   ]
  },
  {
   "cell_type": "markdown",
   "metadata": {},
   "source": [
    "### Lists\n",
    "A lot of the power of scripting (programming) is that we can have data lists. Lists can include numbers or strings. In Python, we do this with brackets, [  ], and commas. For example, a = [1,2,3,4]\n",
    "\n",
    "Adding to lists joins them together (concatenates them) them as you see below."
   ]
  },
  {
   "cell_type": "code",
   "execution_count": 7,
   "metadata": {},
   "outputs": [
    {
     "name": "stdout",
     "output_type": "stream",
     "text": [
      "[1, 2, 3, 4, 5, 6, 7]\n"
     ]
    }
   ],
   "source": [
    "# Making and adding lists\n",
    "a = [1,2,3,4]\n",
    "b = [5,6,7]\n",
    "c = a+b\n",
    "print(c)"
   ]
  },
  {
   "cell_type": "markdown",
   "metadata": {},
   "source": [
    "Other operations work as well, for example, multiplication."
   ]
  },
  {
   "cell_type": "code",
   "execution_count": 9,
   "metadata": {},
   "outputs": [
    {
     "data": {
      "text/plain": [
       "[1, 2, 3, 4, 1, 2, 3, 4]"
      ]
     },
     "execution_count": 9,
     "metadata": {},
     "output_type": "execute_result"
    }
   ],
   "source": [
    "# Notice the behaviour of operations on lists\n",
    "2*a"
   ]
  },
  {
   "cell_type": "markdown",
   "metadata": {},
   "source": [
    "### Loops\n",
    "Loops are very powerful, allowing us to perform the same operation repeatedly. For example, we can iterate over a set of values, performing the same procedure on each one. First, let's print a list of numbers. \n",
    "\n",
    "#### Loop option 1\n",
    "The loop syntax looks like the example below. Notice the colon **(:)**, and the items inside the loop are \"tabbed\" inside. Python interprets your tabbed lines as being \"inside\" the loop. You do not need to write \"end\" when your loop finishes, as going back to the outer indentation level tells python that you have exited the loop. \n",
    "\n",
    ">#### Indentation:\n",
    "Indentation refers to the spaces at the beginning of a code line.\n",
    "While in other programming languages, the indentation in code is for readability only, **the indentation in Python is very important!!!**\n",
    "> <h2 style=\"font-size:1.5rem;color:red;\">Python uses indentation to indicate a block of code.</h2>"
   ]
  },
  {
   "cell_type": "code",
   "execution_count": 10,
   "metadata": {},
   "outputs": [
    {
     "name": "stdout",
     "output_type": "stream",
     "text": [
      "1\n",
      "10\n",
      "3\n",
      "15\n",
      "5\n"
     ]
    }
   ],
   "source": [
    "# Loop option 1\n",
    "for x in [1,10,3,15,5]:\n",
    "  print(x)"
   ]
  },
  {
   "cell_type": "markdown",
   "metadata": {},
   "source": [
    "#### Loop option 2\n",
    "We can iterate over pre-defined list, and perform many different operations inside the loop. For example:\n",
    "<br>\n",
    "<br>\n",
    "<center>$f(x)=x^{2}$<center>"
   ]
  },
  {
   "cell_type": "code",
   "execution_count": 11,
   "metadata": {},
   "outputs": [
    {
     "name": "stdout",
     "output_type": "stream",
     "text": [
      "1\n",
      "100\n",
      "9\n",
      "225\n",
      "25\n",
      "400\n"
     ]
    }
   ],
   "source": [
    "# Loop option 2\n",
    "my_list = [1,10,3,15,5,20]\n",
    "for x in my_list:\n",
    "    squared = x*x\n",
    "    print(squared)"
   ]
  },
  {
   "cell_type": "markdown",
   "metadata": {},
   "source": [
    "Or how about another loop that adds up a list.<br>\n",
    "<br>\n",
    "\\begin{equation}\n",
    "Summation=\\sum_{i=m}^N x_i\n",
    "\\end{equation}\n",
    "<center>$m\\leq N$<center>"
   ]
  },
  {
   "cell_type": "code",
   "execution_count": 12,
   "metadata": {},
   "outputs": [
    {
     "name": "stdout",
     "output_type": "stream",
     "text": [
      "1\n",
      "3\n",
      "6\n",
      "10\n",
      "15\n",
      "21\n",
      "('Result=', 21)\n"
     ]
    }
   ],
   "source": [
    "mysum = 0\n",
    "my_list = [1,2,3,4,5,6]\n",
    "for x in my_list:\n",
    "    mysum += x   #  Alternative:  mysum = mysum + x\n",
    "    print(mysum)\n",
    "\n",
    "print('Result=',mysum)"
   ]
  },
  {
   "cell_type": "markdown",
   "metadata": {},
   "source": [
    "### Import and Packages\n",
    "Many tools are available for Python, but they need to be imported into what we call packages. \n",
    "In Python, you use the import keyword to make code in one module available in another. Therefore, imports in Python are essential for structuring your code effectively.\n",
    "\n",
    "Python Glossary: https://docs.python.org/3/glossary.html"
   ]
  },
  {
   "cell_type": "code",
   "execution_count": 10,
   "metadata": {},
   "outputs": [],
   "source": [
    "# Packages. Note we import each package as XX, this is the name we refer to them with later\n",
    "import numpy as np\n",
    "import matplotlib.pyplot as plt\n",
    "import math"
   ]
  },
  {
   "cell_type": "markdown",
   "metadata": {},
   "source": [
    "### Numpy array\n",
    "\n",
    "A NumPy array is a grid of values of the same type and indexed by a tuple of nonnegative integers. For example, let's define the horizontal wind vector using NumPy arrays by wind magnitude (wm) and direction (wd). If you have used Matlab in the past, you will find that NumPy arrays behave in a similar way to arrays (matrices) in Matlab - if you haven't used Matlab, don't worry about this. "
   ]
  },
  {
   "cell_type": "code",
   "execution_count": 20,
   "metadata": {},
   "outputs": [
    {
     "name": "stdout",
     "output_type": "stream",
     "text": [
      "[ 1.  10.8 20.   0.5  2.4  5.3]\n",
      "[  0  90 180 270  45 192]\n"
     ]
    }
   ],
   "source": [
    "# Wind magnitude (wm) Units [m/s]\n",
    "speed=np.array([1.0,10.8,20.0,0.5,2.4,5.3])\n",
    "\n",
    "# Wind direction (wd) Unidts: [degrees]\n",
    "direction=np.array([0,90,180,270,45,192])\n",
    "print(speed)\n",
    "print(direction)"
   ]
  },
  {
   "cell_type": "markdown",
   "metadata": {},
   "source": [
    "### Access Array Elements\n",
    "\n",
    "Array indexing is the same as accessing an array element.\n",
    "You can access an array element by referring to its index number.\n",
    "\n",
    "The indices in NumPy arrays start with 0, meaning that the first element has index 0, the second has index 1, etc. (This is different to Matlab and some other programming languages, where the indexing starts from 1).\n",
    "\n",
    "Get the first, second, and last elements from magnitude and direction arrays. "
   ]
  },
  {
   "cell_type": "code",
   "execution_count": 21,
   "metadata": {},
   "outputs": [
    {
     "name": "stdout",
     "output_type": "stream",
     "text": [
      "[1, 2, 3, 4]\n",
      "First 1.0\n",
      "Second 10.8\n",
      "Last 5.3\n"
     ]
    }
   ],
   "source": [
    "# Access Array Elements\n",
    "print(a)\n",
    "print('First',speed[0])\n",
    "print('Second',speed[1])\n",
    "print('Last',speed[-1]) "
   ]
  },
  {
   "cell_type": "markdown",
   "metadata": {},
   "source": [
    "#### Converting wind speed and direction to u and v wind components\n",
    "\n",
    "We often need to convert from the 'polar coordinates' representation of wind as a speed and direction, to a vector representation as u and v components. Unfortunately, the meteorological and mathematical defnitions of directions are different, and this complicates the conversion!\n",
    "\n",
    "To handle this, we can first convert the meteorological wind direction to the mathematical (unit circle) definition using:\n",
    "\n",
    "<br>\n",
    "<center>$\\theta_{math} = 270 - \\theta_{met}$<center>\n",
    "<br>\n",
    "\n",
    "Then we can convert the speed and the $\\theta_{math}$ to our u and v wind components:\n",
    "    \n",
    "<br>\n",
    "<center>$u=S.cos(\\theta_{math})$<center>\n",
    "<br>\n",
    "<center>$v=S.sin(\\theta_{math})$<center>\n",
    "\n",
    "Draw a diagram to convince yourself that this works!"
   ]
  },
  {
   "cell_type": "code",
   "execution_count": 22,
   "metadata": {},
   "outputs": [
    {
     "name": "stdout",
     "output_type": "stream",
     "text": [
      "[270 180  90   0 225  78]\n"
     ]
    }
   ],
   "source": [
    "## First, let's convert the wind direction from the meteorological definition to the unit-circle definition:\n",
    "\n",
    "direction_math = 270 - direction\n",
    "print(direction_math)"
   ]
  },
  {
   "cell_type": "markdown",
   "metadata": {},
   "source": [
    "### You do this bit!"
   ]
  },
  {
   "cell_type": "code",
   "execution_count": 17,
   "metadata": {},
   "outputs": [],
   "source": [
    "## Over to you! Use this cell to convert wd_math to radians by multiplying by pi / 180.\n",
    "## You can access the value of pi using np.pi\n",
    "## Call you new directions direction_math_rad\n",
    "\n"
   ]
  },
  {
   "cell_type": "markdown",
   "metadata": {},
   "source": [
    "### You do this bit!"
   ]
  },
  {
   "cell_type": "code",
   "execution_count": 26,
   "metadata": {},
   "outputs": [],
   "source": [
    "## Great. Now use this cell to convert to u and v. You can call the trigonometric functions as cos()\n",
    "\n",
    "\n",
    "\n",
    "# Print out your u and v wind components and make sure they make sense. \n",
    "# What do the very small numbers (eg X 10^-16) where we might expect a zero mean?"
   ]
  },
  {
   "cell_type": "markdown",
   "metadata": {},
   "source": [
    "### Functions\n",
    "\n",
    "Sometimes it is easier to make a function to do things we need to do all the time.\n",
    "\n",
    "A function is a block of code that is like a machine - it only does something when you run it and give it some inputs. \n",
    "\n",
    "Let's make a couple of functions to compute u and v components of wind. Start a function anywhere in your notebook with the def command, and indicate all material inside the function by indenting. "
   ]
  },
  {
   "cell_type": "code",
   "execution_count": 30,
   "metadata": {},
   "outputs": [],
   "source": [
    "# Function 1: Compute the u component of wind\n",
    "def ufunc(spd,dir_met):\n",
    "    \n",
    "    dir_math = 270 - dir_met\n",
    "    u=spd*np.cos(dir_math * np.pi / 180)\n",
    "    return(u)\n",
    "\n",
    "\n",
    "# Function 2: Compute the v component of wind\n",
    "def vfunc(spd,dir_met):\n",
    "    dir_math = 270 - dir_met\n",
    "    v=spd*np.sin(dir_math * np.pi / 180)\n",
    "    return(v)"
   ]
  },
  {
   "cell_type": "markdown",
   "metadata": {},
   "source": [
    "#### Let's test the functions"
   ]
  },
  {
   "cell_type": "code",
   "execution_count": 37,
   "metadata": {},
   "outputs": [
    {
     "name": "stdout",
     "output_type": "stream",
     "text": [
      "u: [-1.83697020e-16 -1.08000000e+01  1.22464680e-15  5.00000000e-01\n",
      " -1.69705627e+00  1.10193196e+00]\n",
      "v: [-1.00000000e+00  1.32261854e-15  2.00000000e+01  0.00000000e+00\n",
      " -1.69705627e+00  5.18418228e+00]\n"
     ]
    }
   ],
   "source": [
    "u = ufunc(speed, direction)\n",
    "v = vfunc(speed, direction)\n",
    "\n",
    "print('u:', u)\n",
    "print('v:', v)"
   ]
  },
  {
   "cell_type": "markdown",
   "metadata": {},
   "source": [
    "#### Referencing array elements\n",
    "\n",
    "Sometimes we only want to use a single value or part of an array. Test the following cells. What happens?"
   ]
  },
  {
   "cell_type": "code",
   "execution_count": 39,
   "metadata": {
    "tags": []
   },
   "outputs": [
    {
     "name": "stdout",
     "output_type": "stream",
     "text": [
      "20.0\n"
     ]
    }
   ],
   "source": [
    "print(speed[2])"
   ]
  },
  {
   "cell_type": "code",
   "execution_count": 40,
   "metadata": {},
   "outputs": [
    {
     "name": "stdout",
     "output_type": "stream",
     "text": [
      "[10.8 20. ]\n"
     ]
    }
   ],
   "source": [
    "print(speed[1:3])"
   ]
  },
  {
   "cell_type": "code",
   "execution_count": 42,
   "metadata": {},
   "outputs": [
    {
     "name": "stdout",
     "output_type": "stream",
     "text": [
      "[ 1.  20.   2.4]\n"
     ]
    }
   ],
   "source": [
    "print(speed[0:6:2])"
   ]
  },
  {
   "cell_type": "code",
   "execution_count": 43,
   "metadata": {},
   "outputs": [
    {
     "name": "stdout",
     "output_type": "stream",
     "text": [
      "5.3\n"
     ]
    }
   ],
   "source": [
    "print(speed[-1])"
   ]
  },
  {
   "cell_type": "markdown",
   "metadata": {},
   "source": [
    "#### You do this bit!"
   ]
  },
  {
   "cell_type": "code",
   "execution_count": 44,
   "metadata": {},
   "outputs": [],
   "source": [
    "## In this cell, calculate the average of the first and last elements of the wind speed"
   ]
  },
  {
   "cell_type": "markdown",
   "metadata": {},
   "source": [
    "#### For loops\n",
    "\n",
    "For loops are one of the most important programming structures. They allow you to loop through a list or array, and perform an operation on each element. Like most things in Python, you show which lines of code are inside the for loop using indentation. "
   ]
  },
  {
   "cell_type": "code",
   "execution_count": 52,
   "metadata": {},
   "outputs": [
    {
     "name": "stdout",
     "output_type": "stream",
     "text": [
      "7\n",
      "0 1009.0 1008.0 -1.0\n",
      "1 1010.5 1009.0 -1.5\n",
      "2 1012.0 1010.5 -1.5\n",
      "3 1011.0 1012.0 1.0\n",
      "4 1010.0 1011.0 1.0\n",
      "5 1007.0 1010.0 3.0\n"
     ]
    }
   ],
   "source": [
    "Pressure = [1008.0, 1009.0, 1010.5, 1012.0, 1011.0, 1010.0, 1007.0]\n",
    "npressure = len(Pressure)\n",
    "print(npressure)\n",
    "\n",
    "for pp in range(0,npressure-1):\n",
    "    deltap = Pressure[pp] - Pressure[pp+1]\n",
    "    print(pp, Pressure[pp+1], Pressure[pp], deltap)"
   ]
  },
  {
   "cell_type": "markdown",
   "metadata": {},
   "source": [
    "##### Answer the following questions:\n",
    "1. What does the statement len(Pressure) do?\n",
    "\n",
    "2. Why did we loop from indices 0 to (npressure-1)?\n",
    "\n",
    "3. What is this code calculating, and when could this kind of approach be useful?"
   ]
  },
  {
   "cell_type": "markdown",
   "metadata": {},
   "source": [
    "### Decision-making statement (if)\n",
    "\n",
    "The IF statement is a decision-making statement that guides a program to make decisions based on specified criteria. Python supports the usual logical conditions from mathematics:\n",
    "\n",
    ">* Equals: **a == b**\n",
    ">* Not Equals: **a != b**\n",
    ">* Less than: **a < b**\n",
    ">* Less than or equal to: **a <= b**\n",
    ">* Greater than: **a > b**\n",
    ">* Greater than or equal to: **a >= b**\n",
    "\n",
    "Let's try an example using u component of wind. Test the following cell, and explain what it does:"
   ]
  },
  {
   "cell_type": "code",
   "execution_count": 57,
   "metadata": {},
   "outputs": [
    {
     "name": "stdout",
     "output_type": "stream",
     "text": [
      "[-1.83697020e-16 -1.08000000e+01  1.22464680e-15  5.00000000e-01\n",
      " -1.69705627e+00  1.10193196e+00]\n",
      "Index k: 3 U component 0.5\n",
      "Index k: 5 U component 1.101931961334125\n"
     ]
    }
   ],
   "source": [
    "print(u)\n",
    "n = len(u)\n",
    "for k in range(0,n): # Don't forget colon \n",
    "    if u[k] >= 0.00001:    # Indentation!\n",
    "        print('Index k:',k, 'U component',u[k])"
   ]
  },
  {
   "cell_type": "markdown",
   "metadata": {},
   "source": [
    "## Example\n",
    "\n",
    "### Pressure\n",
    "Pressure P is the force F acting perpendicular(normal) to a surface, per unit surface area A:\n",
    "<br>\n",
    "<br>\n",
    "<center>$P = F / A$<center> \n",
    "<br> \n",
    "\n",
    "Static pressure (i.e., pressure in calm winds) is caused by randomly moving molecules that bounce off each other and off surfaces they hit. In a vacuum, the pressure is zero.\n",
    "    \n",
    "Atmospheric pressure that you measure at any altitude is caused by the weight of all the air molecules\n",
    "above you. As you travel higher in the atmosphere, fewer molecules are still above you; hence, pressure decreases with height.\n",
    "\n",
    "The pressure change is approximately exponential with height, z. For example, if the temperature (T) were uniform with height (which it is not), then:\n",
    "<br>\n",
    "<br>\n",
    "<center>$P=P_0.e^{-z/H}$<center>\n",
    "<br>\n",
    "\n",
    "where H is a 'scale factor' of 7500m, z is the height above the surface, and $P_0$ is the average sea level pressure = 1013.25 hPa. \n",
    "\n",
    "### Option 1\n",
    ">Please check numpy arange function: https://numpy.org/doc/stable/reference/generated/numpy.arange.html"
   ]
  },
  {
   "cell_type": "code",
   "execution_count": 61,
   "metadata": {},
   "outputs": [
    {
     "name": "stdout",
     "output_type": "stream",
     "text": [
      "[1013.25        999.8296677   986.58708553  973.51989922  960.62578568\n",
      "  947.90245258  935.34763798  922.95910986  910.73466579  898.6721325\n",
      "  886.76936552  875.02424876  863.43469417  851.99864136  840.71405721\n",
      "  829.57893556  818.59129679  807.74918751  797.05068023  786.49387293\n",
      "  776.07688885  765.79787603  755.65500707  745.64647878  735.77051181\n",
      "  726.02535044  716.40926215  706.92053739  697.55748926  688.31845318\n",
      "  679.20178665  670.20586888  661.32910059  652.56990366  643.92672088\n",
      "  635.39801565  626.98227175  618.67799301  610.4837031   602.39794523\n",
      "  594.41928192  586.54629471  578.77758394  571.1117685   563.54748553\n",
      "  556.08339027  548.71815575  541.45047256  534.27904866  527.20260911\n",
      "  520.21989586  513.32966751  506.53069913  499.82178198  493.20172335\n",
      "  486.66934633  480.22348958  473.86300717  467.58676831  461.39365722\n",
      "  455.28257289  449.25242888  443.30215315  437.43068786  431.63698918\n",
      "  425.9200271   420.27878526  414.71226075  409.21946396  403.79941838\n",
      "  398.45116042  393.17373927  387.96621671  382.82766695  377.75717645\n",
      "  372.75384377  367.81677942  362.94510569  358.13795649  353.39447721\n",
      "  348.71382454  344.09516636  339.53768156  335.04055991  330.6030019\n",
      "  326.22421864  321.90343165  317.63987278  313.43278406  309.28141755\n",
      "  305.18503522  301.14290881  297.15431971  293.21855883  289.33492646\n",
      "  285.50273218  281.72129468  277.98994172  274.30800992  270.67484472\n",
      "  267.0898002   263.55223901  260.06153225  256.61705933  253.21820791\n",
      "  249.86437371  246.55496051  243.28937996  240.06705148  236.88740223\n",
      "  233.74986692  230.65388775  227.59891433  224.58440354  221.60981945\n",
      "  218.67463325  215.77832312  212.92037414  210.10027824  207.31753405\n",
      "  204.57164686  201.8621285   199.18849727  196.55027785  193.94700122\n",
      "  191.37820458  188.84343122  186.34223053  183.87415784  181.43877437\n",
      "  179.03564716  176.66434899  174.32445827  172.01555903  169.73724078\n",
      "  167.48909849  165.27073248  163.08174837  160.921757    158.79037437\n",
      "  156.68722155  154.61192466  152.56411473  150.54342772  148.54950438\n",
      "  146.58199023  144.64053549  142.724795    140.83442818  138.96909897]\n",
      "(150,)\n"
     ]
    }
   ],
   "source": [
    "P0= 1013.25                            # [hPa]\n",
    "H = 7500                               # [m]\n",
    "z = np.arange(0,15000,100,dtype=float) # [m]   Vector of heights from 0 to 50 km\n",
    "\n",
    "nz=len(z)\n",
    "P1=np.zeros([nz])\n",
    "for j in range(0,nz):\n",
    "    P1[j]=P0*np.exp((-1)*(z[j]/H))\n",
    "                    \n",
    "print(P1)\n",
    "print(P1.shape)   \n"
   ]
  },
  {
   "cell_type": "markdown",
   "metadata": {},
   "source": [
    "### <center>Option 2<center> \n",
    "For loops are very useful, but they can be quite memory intensive if you're working with a lot of data. Sometimes, we can avoid using loops by operating on a whole numpy array at the same time. Here, we re-do the previous calculation without a loop:"
   ]
  },
  {
   "cell_type": "code",
   "execution_count": 63,
   "metadata": {},
   "outputs": [
    {
     "name": "stdout",
     "output_type": "stream",
     "text": [
      "[1013.25        999.8296677   986.58708553  973.51989922  960.62578568\n",
      "  947.90245258  935.34763798  922.95910986  910.73466579  898.6721325\n",
      "  886.76936552  875.02424876  863.43469417  851.99864136  840.71405721\n",
      "  829.57893556  818.59129679  807.74918751  797.05068023  786.49387293\n",
      "  776.07688885  765.79787603  755.65500707  745.64647878  735.77051181\n",
      "  726.02535044  716.40926215  706.92053739  697.55748926  688.31845318\n",
      "  679.20178665  670.20586888  661.32910059  652.56990366  643.92672088\n",
      "  635.39801565  626.98227175  618.67799301  610.4837031   602.39794523\n",
      "  594.41928192  586.54629471  578.77758394  571.1117685   563.54748553\n",
      "  556.08339027  548.71815575  541.45047256  534.27904866  527.20260911\n",
      "  520.21989586  513.32966751  506.53069913  499.82178198  493.20172335\n",
      "  486.66934633  480.22348958  473.86300717  467.58676831  461.39365722\n",
      "  455.28257289  449.25242888  443.30215315  437.43068786  431.63698918\n",
      "  425.9200271   420.27878526  414.71226075  409.21946396  403.79941838\n",
      "  398.45116042  393.17373927  387.96621671  382.82766695  377.75717645\n",
      "  372.75384377  367.81677942  362.94510569  358.13795649  353.39447721\n",
      "  348.71382454  344.09516636  339.53768156  335.04055991  330.6030019\n",
      "  326.22421864  321.90343165  317.63987278  313.43278406  309.28141755\n",
      "  305.18503522  301.14290881  297.15431971  293.21855883  289.33492646\n",
      "  285.50273218  281.72129468  277.98994172  274.30800992  270.67484472\n",
      "  267.0898002   263.55223901  260.06153225  256.61705933  253.21820791\n",
      "  249.86437371  246.55496051  243.28937996  240.06705148  236.88740223\n",
      "  233.74986692  230.65388775  227.59891433  224.58440354  221.60981945\n",
      "  218.67463325  215.77832312  212.92037414  210.10027824  207.31753405\n",
      "  204.57164686  201.8621285   199.18849727  196.55027785  193.94700122\n",
      "  191.37820458  188.84343122  186.34223053  183.87415784  181.43877437\n",
      "  179.03564716  176.66434899  174.32445827  172.01555903  169.73724078\n",
      "  167.48909849  165.27073248  163.08174837  160.921757    158.79037437\n",
      "  156.68722155  154.61192466  152.56411473  150.54342772  148.54950438\n",
      "  146.58199023  144.64053549  142.724795    140.83442818  138.96909897]\n",
      "(150,)\n"
     ]
    }
   ],
   "source": [
    "P0= 1013.25                            # [hPa]\n",
    "H = 7500                               # [m]\n",
    "z = np.arange(0,15000,100,dtype=float) # [m]   Vector of heights from 0 to 50 km\n",
    "\n",
    "P2=P0*np.exp(-z/H)\n",
    "print(P2)\n",
    "print(P2.shape)\n"
   ]
  },
  {
   "cell_type": "markdown",
   "metadata": {},
   "source": [
    "### Making a Matplotlib Plot\n",
    "\n",
    "#### Create a new figure\n",
    "Create a new figure, or activate an existing figure **[plt.figure()](https://matplotlib.org/stable/api/_as_gen/matplotlib.pyplot.figure.html)**. The figsize attribute allows us to specify the width (w) and height (h) of a figure in unit inches **figsize=(w,h)**.\n",
    "\n",
    "#### Add axes to the current figure and make it the current axes.\n",
    "\n",
    "We can add axes to a figure in matplotlib by passing a list argument in the **[plt.axes()](https://matplotlib.org/stable/api/_as_gen/matplotlib.pyplot.axes.html)** method.\n",
    "\n",
    "\n",
    "#### Adding Grid Lines\n",
    "\n",
    "**plt.grid()** adds and configures grid lines. It shows the grid in default settings.\n",
    "\n",
    "#### Plot a line\n",
    "\n",
    "Plot y versus x as lines and/or markers **[Axes.plot]( https://matplotlib.org/stable/api/_as_gen/matplotlib.axes.Axes.plot.html)/plt.plot/ax.plot**.\n",
    "\n",
    "The properties of various keyword arguments in the code are as mentioned below:\n",
    "\n",
    "* **linestyle** or ls will set the style of the grid lines. The suitable values for linestyle are ‘-’, ‘ — ‘, ‘-.’, ‘:’, ‘’, ‘solid’, ‘dotted’, ‘dashed’, ‘dashdot’ etc.\n",
    "\n",
    "* **linewidth** or lw determines the width of the grid lines.\n",
    "\n",
    "#### Tick Parameters\n",
    "\n",
    "We have seen how to customize grids. Nevertheless, there is a **plt.tick_params()** method that can change the appearance of ticks, tick labels, and gridlines in one line of code.\n",
    "\n",
    "#### Change Font Size Globally\n",
    "We'll want to set the font_size parameter to a new size. We can get to this parameter via **rcParams['font.size']**.\n",
    "\n",
    "#### Display and save All Open Figures \n",
    "\n",
    "In our Jupyter Notebook example, running the cell should generate the figure directly below the code **plt.show()**. The figure is also included in the Notebook document for future viewing. However, other Python environments like an interactive Python session started from a terminal or a Python script executed via the command line require an additional command to display the figure.\n",
    "Save the current figure **[savefig](https://matplotlib.org/stable/api/_as_gen/matplotlib.pyplot.savefig.html)**.\n"
   ]
  },
  {
   "cell_type": "code",
   "execution_count": 64,
   "metadata": {},
   "outputs": [
    {
     "data": {
      "image/png": "[encoded data removed]",
      "text/plain": [
       "<Figure size 576x432 with 1 Axes>"
      ]
     },
     "metadata": {
      "needs_background": "light"
     },
     "output_type": "display_data"
    }
   ],
   "source": [
    "## Convert height from meters to kilometres\n",
    "z=z/1000\n",
    "\n",
    "# Plot\n",
    "\n",
    "fig = plt.figure(figsize=(8,6))\n",
    "#plt.rcParams['font.size'] = '16'\n",
    "ax = plt.axes()\n",
    "ax.grid()                     # Grid lines\n",
    "ax.tick_params()              # Tick labels\n",
    "ax.plot(P1,z, linestyle='--',lw=4)\n",
    "ax.set(xlabel='X axis label', \n",
    "       ylabel='Y axis label',\n",
    "       title='Title for your plot')\n",
    "plt.savefig('test1.png')\n",
    "plt.show()"
   ]
  },
  {
   "cell_type": "markdown",
   "metadata": {},
   "source": [
    "#### You do this bit!\n",
    "\n",
    "Experiment with a few different linestyles, colours, fontsizes and thickness. Change the axis labels and title to something meaningful. "
   ]
  },
  {
   "cell_type": "markdown",
   "metadata": {},
   "source": [
    "Now try to change the x-axis to a logarithmic scale. See the examples at:\n",
    "\n",
    "https://matplotlib.org/stable/tutorials/introductory/pyplot.html\n",
    "\n"
   ]
  },
  {
   "cell_type": "code",
   "execution_count": 65,
   "metadata": {},
   "outputs": [
    {
     "data": {
      "image/png": "[encoded data removed]",
      "text/plain": [
       "<Figure size 864x576 with 1 Axes>"
      ]
     },
     "metadata": {
      "needs_background": "light"
     },
     "output_type": "display_data"
    }
   ],
   "source": [
    "\n",
    "# Plot\n",
    "\n",
    "fig = plt.figure(figsize=(12,8))\n",
    "plt.rcParams['font.size'] = '18'\n",
    "ax = plt.axes()\n",
    "ax.grid()                     # Grid lines\n",
    "ax.tick_params()              # Tick labels\n",
    "ax.plot(P1,z,linestyle='-',lw=4)\n",
    "ax.set(xlabel='log Pressure (hPa)', \n",
    "       ylabel='Height (km)',\n",
    "       title='Height z vs. pressure P in the atmosphere')\n",
    "plt.xscale(\"log\")\n",
    "plt.savefig('test2.png')\n",
    "plt.show()"
   ]
  },
  {
   "cell_type": "markdown",
   "metadata": {},
   "source": [
    "Well done! You have concluded your first Jupyter notebooks. "
   ]
  }
 ],
 "metadata": {
  "kernelspec": {
   "display_name": "Python 3",
   "language": "python",
   "name": "python3"
  },
  "language_info": {
   "codemirror_mode": {
    "name": "ipython",
    "version": 3
   },
   "file_extension": ".py",
   "mimetype": "text/x-python",
   "name": "python",
   "nbconvert_exporter": "python",
   "pygments_lexer": "ipython3",
   "version": "3.6.9"
  }
 },
 "nbformat": 4,
 "nbformat_minor": 4
}
